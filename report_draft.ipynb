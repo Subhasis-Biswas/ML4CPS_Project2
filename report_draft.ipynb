{
 "cells": [
  {
   "cell_type": "markdown",
   "metadata": {},
   "source": [
    "# Preliminary Steps\n",
    "\n",
    "The first step of this project is to load the data correctly and check for any missing values. The data is stored in `data` folder.\n",
    "\n",
    "The given excel workbooks contain a sheet named `data`, which comprises of the data of the respective suburbs. \n",
    "\n",
    "The leftmost column (as seen when loaded in Microsoft Excel) describes the category of the features- we'll be referring this column as the 'metadata' column. \n",
    "\n",
    "Now, as the data is given in its original format, the 'metadata' column only contains a few blocks, with each block aligned against multiple feature-names to its right which fall into the same category. To adjust this, we have repeated the entries of the metadata column to resolve this entry-mismatch issue and created a single `test.xlsx` file. The first column of this file will be later used to replace the metadata column of the others."
   ]
  },
  {
   "cell_type": "code",
   "execution_count": 1,
   "metadata": {},
   "outputs": [
    {
     "data": {
      "text/html": [
       "<div>\n",
       "<style scoped>\n",
       "    .dataframe tbody tr th:only-of-type {\n",
       "        vertical-align: middle;\n",
       "    }\n",
       "\n",
       "    .dataframe tbody tr th {\n",
       "        vertical-align: top;\n",
       "    }\n",
       "\n",
       "    .dataframe thead th {\n",
       "        text-align: right;\n",
       "    }\n",
       "</style>\n",
       "<table border=\"1\" class=\"dataframe\">\n",
       "  <thead>\n",
       "    <tr style=\"text-align: right;\">\n",
       "      <th></th>\n",
       "      <th>0</th>\n",
       "      <th>1</th>\n",
       "      <th>2</th>\n",
       "    </tr>\n",
       "  </thead>\n",
       "  <tbody>\n",
       "    <tr>\n",
       "      <th>0</th>\n",
       "      <td>Community</td>\n",
       "      <td>Community Name</td>\n",
       "      <td>Braybrook (Suburb)</td>\n",
       "    </tr>\n",
       "    <tr>\n",
       "      <th>1</th>\n",
       "      <td>Community</td>\n",
       "      <td>Region</td>\n",
       "      <td>Northern and Western Metropolitan</td>\n",
       "    </tr>\n",
       "    <tr>\n",
       "      <th>2</th>\n",
       "      <td>Geography</td>\n",
       "      <td>Map reference</td>\n",
       "      <td>4</td>\n",
       "    </tr>\n",
       "    <tr>\n",
       "      <th>3</th>\n",
       "      <td>Geography</td>\n",
       "      <td>Grid reference</td>\n",
       "      <td>A3</td>\n",
       "    </tr>\n",
       "    <tr>\n",
       "      <th>4</th>\n",
       "      <td>Geography</td>\n",
       "      <td>Location</td>\n",
       "      <td>10km WNW of Melbourne</td>\n",
       "    </tr>\n",
       "    <tr>\n",
       "      <th>...</th>\n",
       "      <td>...</td>\n",
       "      <td>...</td>\n",
       "      <td>...</td>\n",
       "    </tr>\n",
       "    <tr>\n",
       "      <th>221</th>\n",
       "      <td>Hospital</td>\n",
       "      <td>Distance to nearest public hospital with emerg...</td>\n",
       "      <td>10.161988</td>\n",
       "    </tr>\n",
       "    <tr>\n",
       "      <th>222</th>\n",
       "      <td>Hospital</td>\n",
       "      <td>Presentations to emergency departments due to ...</td>\n",
       "      <td>543.631989</td>\n",
       "    </tr>\n",
       "    <tr>\n",
       "      <th>223</th>\n",
       "      <td>Hospital</td>\n",
       "      <td>Presentations to emergency departments due to ...</td>\n",
       "      <td>20.647263</td>\n",
       "    </tr>\n",
       "    <tr>\n",
       "      <th>224</th>\n",
       "      <td>Hospital</td>\n",
       "      <td>Category 4 &amp; 5 emergency department presentations</td>\n",
       "      <td>1683.966712</td>\n",
       "    </tr>\n",
       "    <tr>\n",
       "      <th>225</th>\n",
       "      <td>Hospital</td>\n",
       "      <td>Category 4 &amp; 5 emergency department presentati...</td>\n",
       "      <td>63.957428</td>\n",
       "    </tr>\n",
       "  </tbody>\n",
       "</table>\n",
       "<p>226 rows × 3 columns</p>\n",
       "</div>"
      ],
      "text/plain": [
       "             0                                                  1  \\\n",
       "0    Community                                     Community Name   \n",
       "1    Community                                             Region   \n",
       "2    Geography                                      Map reference   \n",
       "3    Geography                                     Grid reference   \n",
       "4    Geography                                           Location   \n",
       "..         ...                                                ...   \n",
       "221   Hospital  Distance to nearest public hospital with emerg...   \n",
       "222   Hospital  Presentations to emergency departments due to ...   \n",
       "223   Hospital  Presentations to emergency departments due to ...   \n",
       "224   Hospital  Category 4 & 5 emergency department presentations   \n",
       "225   Hospital  Category 4 & 5 emergency department presentati...   \n",
       "\n",
       "                                     2  \n",
       "0                   Braybrook (Suburb)  \n",
       "1    Northern and Western Metropolitan  \n",
       "2                                    4  \n",
       "3                                   A3  \n",
       "4                10km WNW of Melbourne  \n",
       "..                                 ...  \n",
       "221                          10.161988  \n",
       "222                         543.631989  \n",
       "223                          20.647263  \n",
       "224                        1683.966712  \n",
       "225                          63.957428  \n",
       "\n",
       "[226 rows x 3 columns]"
      ]
     },
     "execution_count": 1,
     "metadata": {},
     "output_type": "execute_result"
    }
   ],
   "source": [
    "import pandas as pd\n",
    "import numpy as np\n",
    "\n",
    "df_test = pd.read_excel('test.xlsx', sheet_name='data', header=None)\n",
    "\n",
    "df_test"
   ]
  },
  {
   "cell_type": "markdown",
   "metadata": {},
   "source": [
    "We can now create a reference column that we'll be using to replace the first columns of the other sheets. \n",
    "\n",
    "A dictionary is also created for looking up the feature-names that belong to the same category, with the categories as the keys."
   ]
  },
  {
   "cell_type": "code",
   "execution_count": 18,
   "metadata": {},
   "outputs": [],
   "source": [
    "reference_column=df_test.iloc[:,0]\n",
    "feature_category_dict=df_test.groupby(0)[1].unique().to_dict()"
   ]
  },
  {
   "cell_type": "markdown",
   "metadata": {},
   "source": [
    "## Loading the excel sheets\n",
    "\n",
    "We first check if the number of features across the datasets is identical. If yes, then we load all the datasets into memory and adjust for downstream tasks."
   ]
  },
  {
   "cell_type": "code",
   "execution_count": 51,
   "metadata": {},
   "outputs": [
    {
     "name": "stdout",
     "output_type": "stream",
     "text": [
      "The number of features is consistent across all the datasets\n",
      "The number of features is: 226\n"
     ]
    }
   ],
   "source": [
    "# utility function to load the excel files\n",
    "def excel_loader(xlsx_path, sheet_name='data', ref_col=reference_column):\n",
    "\t# load the excel file\n",
    "\tdf = pd.read_excel(xlsx_path, sheet_name=sheet_name, header=None)\n",
    "\t# replace the first column with the reference column\n",
    "\tdf.iloc[:, 0] = ref_col\n",
    "\t# change the column names\n",
    "\tdf.columns = ['feature_kind', 'feature_name', 'feature_value']\n",
    "\treturn df\n",
    "\n",
    "# get the list of sheets\n",
    "\n",
    "import os\n",
    "dataset_list=[i for i in os.listdir('./data/') if i.endswith('.xlsx')]\n",
    "\n",
    "# sort the list\n",
    "dataset_list.sort()\n",
    "\n",
    "\n",
    "len_list=[]\n",
    "feature_num_consistency = True\n",
    "for i in dataset_list:\n",
    "\tlen_list.append(len(pd.read_excel('./data/'+i, sheet_name='data', header=None)[1]))\n",
    "\t\t\n",
    "\n",
    "# check if the number of features is consistent across all the datasets\n",
    "if all(x == len_list[0] for x in len_list):\n",
    "\tprint('The number of features is consistent across all the datasets')\n",
    "\tprint('The number of features is:', len_list[0])\n",
    "else:\n",
    "\tprint('The number of features is not consistent across all the datasets')\n",
    "\tfeature_num_consistency = False\n",
    "\tprint('The number of features in each dataset is:', len_list)\n",
    "\n",
    "# load and adjust the excel files\n",
    "df_all = [excel_loader('./data/'+i) for i in dataset_list]"
   ]
  },
  {
   "cell_type": "markdown",
   "metadata": {},
   "source": [
    "### Checking which sheets contain missing values"
   ]
  },
  {
   "cell_type": "code",
   "execution_count": 52,
   "metadata": {},
   "outputs": [
    {
     "name": "stdout",
     "output_type": "stream",
     "text": [
      "Datasets with missing values:\n",
      "Index: 8, Dataset: Malvern-Suburb - XLSX.xlsx\n",
      "Index: 9, Dataset: Melbourne-Airport-Suburb - XLSX.xlsx\n",
      "Index: 22, Dataset: Sorrento-Suburb - XLSX.xlsx\n",
      "Index: 26, Dataset: St-Andrews-Beach-Suburb - XLSX.xlsx\n",
      "Index: 29, Dataset: St-Kilda-West-Suburb - XLSX.xlsx\n",
      "Index: 30, Dataset: Toorak-Suburb - XLSX.xlsx\n",
      "Index: 31, Dataset: Tyabb-Suburb - XLSX.xlsx\n",
      "Index: 32, Dataset: Waterways-Suburb - XLSX.xlsx\n"
     ]
    }
   ],
   "source": [
    "# check for missing values in any of the datasets\n",
    "missing_values = [df.isnull().values.any() for df in df_all]\n",
    "# print the index of the dataset with missing values\n",
    "dfs_with_na=[i for i, x in enumerate(missing_values) if x]\n",
    "\n",
    "print('Datasets with missing values:')\n",
    "for i in dfs_with_na:\n",
    "\tprint(f'Index: {i}, Dataset: {dataset_list[i]}')"
   ]
  },
  {
   "cell_type": "code",
   "execution_count": null,
   "metadata": {},
   "outputs": [],
   "source": []
  }
 ],
 "metadata": {
  "kernelspec": {
   "display_name": "base",
   "language": "python",
   "name": "python3"
  },
  "language_info": {
   "codemirror_mode": {
    "name": "ipython",
    "version": 3
   },
   "file_extension": ".py",
   "mimetype": "text/x-python",
   "name": "python",
   "nbconvert_exporter": "python",
   "pygments_lexer": "ipython3",
   "version": "3.12.3"
  }
 },
 "nbformat": 4,
 "nbformat_minor": 2
}
