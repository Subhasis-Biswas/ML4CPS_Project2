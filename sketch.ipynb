{
 "cells": [
  {
   "cell_type": "markdown",
   "metadata": {},
   "source": [
    "# First thoughts on similarity metrics"
   ]
  },
  {
   "cell_type": "markdown",
   "metadata": {},
   "source": [
    "1. We can consider `ABS remoteness category` for geographic similarity\n",
    "2. `Land Usage` by percentage with adjustments for area amount\n",
    "3. `Socio-demographic` similarity.\n",
    "    1. Family stats\n",
    "    2. Profession stats\n",
    "    3. IoU for Top Industry, Top Profession etc\n",
    "4. `Services and Hospital` based similarity (drop nearest and categorial features)\n",
    "5. Consider Moran's I for spatial similarity\n"
   ]
  }
 ],
 "metadata": {
  "language_info": {
   "name": "python"
  }
 },
 "nbformat": 4,
 "nbformat_minor": 2
}
